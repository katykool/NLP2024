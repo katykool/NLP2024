{
  "cells": [
    {
      "cell_type": "markdown",
      "source": [
        "# Часть 2. Анализ тональности"
      ],
      "metadata": {
        "id": "dVP72DJmlZfx"
      }
    },
    {
      "cell_type": "code",
      "execution_count": 1,
      "metadata": {
        "id": "LtHN04cYHZK3"
      },
      "outputs": [],
      "source": [
        "import pandas as pd\n",
        "df = pd.read_csv('reviews.csv')"
      ]
    },
    {
      "cell_type": "code",
      "execution_count": 2,
      "metadata": {
        "colab": {
          "base_uri": "https://localhost:8080/"
        },
        "id": "9W6_NERRzVa7",
        "outputId": "ad7a0596-989a-4540-e3e0-48c8467f8e1a"
      },
      "outputs": [
        {
          "output_type": "stream",
          "name": "stdout",
          "text": [
            "Collecting pymorphy2\n",
            "  Downloading pymorphy2-0.9.1-py3-none-any.whl.metadata (3.6 kB)\n",
            "Requirement already satisfied: nltk in /usr/local/lib/python3.10/dist-packages (3.8.1)\n",
            "Collecting dawg-python>=0.7.1 (from pymorphy2)\n",
            "  Downloading DAWG_Python-0.7.2-py2.py3-none-any.whl.metadata (7.0 kB)\n",
            "Collecting pymorphy2-dicts-ru<3.0,>=2.4 (from pymorphy2)\n",
            "  Downloading pymorphy2_dicts_ru-2.4.417127.4579844-py2.py3-none-any.whl.metadata (2.1 kB)\n",
            "Collecting docopt>=0.6 (from pymorphy2)\n",
            "  Downloading docopt-0.6.2.tar.gz (25 kB)\n",
            "  Preparing metadata (setup.py) ... \u001b[?25l\u001b[?25hdone\n",
            "Requirement already satisfied: click in /usr/local/lib/python3.10/dist-packages (from nltk) (8.1.7)\n",
            "Requirement already satisfied: joblib in /usr/local/lib/python3.10/dist-packages (from nltk) (1.4.2)\n",
            "Requirement already satisfied: regex>=2021.8.3 in /usr/local/lib/python3.10/dist-packages (from nltk) (2024.9.11)\n",
            "Requirement already satisfied: tqdm in /usr/local/lib/python3.10/dist-packages (from nltk) (4.66.5)\n",
            "Downloading pymorphy2-0.9.1-py3-none-any.whl (55 kB)\n",
            "\u001b[2K   \u001b[90m━━━━━━━━━━━━━━━━━━━━━━━━━━━━━━━━━━━━━━━━\u001b[0m \u001b[32m55.5/55.5 kB\u001b[0m \u001b[31m961.1 kB/s\u001b[0m eta \u001b[36m0:00:00\u001b[0m\n",
            "\u001b[?25hDownloading DAWG_Python-0.7.2-py2.py3-none-any.whl (11 kB)\n",
            "Downloading pymorphy2_dicts_ru-2.4.417127.4579844-py2.py3-none-any.whl (8.2 MB)\n",
            "\u001b[2K   \u001b[90m━━━━━━━━━━━━━━━━━━━━━━━━━━━━━━━━━━━━━━━━\u001b[0m \u001b[32m8.2/8.2 MB\u001b[0m \u001b[31m28.8 MB/s\u001b[0m eta \u001b[36m0:00:00\u001b[0m\n",
            "\u001b[?25hBuilding wheels for collected packages: docopt\n",
            "  Building wheel for docopt (setup.py) ... \u001b[?25l\u001b[?25hdone\n",
            "  Created wheel for docopt: filename=docopt-0.6.2-py2.py3-none-any.whl size=13704 sha256=3344c517a1e313a4335119cb7be20f90666cc4f19165f13e47ca30aefe36325b\n",
            "  Stored in directory: /root/.cache/pip/wheels/fc/ab/d4/5da2067ac95b36618c629a5f93f809425700506f72c9732fac\n",
            "Successfully built docopt\n",
            "Installing collected packages: pymorphy2-dicts-ru, docopt, dawg-python, pymorphy2\n",
            "Successfully installed dawg-python-0.7.2 docopt-0.6.2 pymorphy2-0.9.1 pymorphy2-dicts-ru-2.4.417127.4579844\n"
          ]
        }
      ],
      "source": [
        "!pip install pymorphy2 nltk"
      ]
    },
    {
      "cell_type": "code",
      "execution_count": 3,
      "metadata": {
        "colab": {
          "base_uri": "https://localhost:8080/"
        },
        "id": "4nXwOLhkzibu",
        "outputId": "58a88c5e-ff29-4bcb-a5cd-afe37a39fde3"
      },
      "outputs": [
        {
          "output_type": "stream",
          "name": "stderr",
          "text": [
            "[nltk_data] Downloading package punkt to /root/nltk_data...\n",
            "[nltk_data]   Unzipping tokenizers/punkt.zip.\n",
            "[nltk_data] Downloading package stopwords to /root/nltk_data...\n",
            "[nltk_data]   Unzipping corpora/stopwords.zip.\n"
          ]
        },
        {
          "output_type": "execute_result",
          "data": {
            "text/plain": [
              "True"
            ]
          },
          "metadata": {},
          "execution_count": 3
        }
      ],
      "source": [
        "import nltk\n",
        "from sklearn.metrics import accuracy_score\n",
        "from nltk.tokenize import word_tokenize\n",
        "from nltk.corpus import stopwords\n",
        "from pymorphy2 import MorphAnalyzer\n",
        "nltk.download('punkt')\n",
        "nltk.download('stopwords')"
      ]
    },
    {
      "cell_type": "code",
      "source": [
        "from collections import Counter"
      ],
      "metadata": {
        "id": "2SqGVj1Yx3Jf"
      },
      "execution_count": 4,
      "outputs": []
    },
    {
      "cell_type": "markdown",
      "source": [
        "Импортируем также стоп-слова, чтобы удалить их из отзывов. Так наш результат станет чище"
      ],
      "metadata": {
        "id": "yiiXfL0blodM"
      }
    },
    {
      "cell_type": "code",
      "execution_count": 5,
      "metadata": {
        "id": "n1dBARI1PIba"
      },
      "outputs": [],
      "source": [
        "russian_stopwords = stopwords.words(\"russian\")"
      ]
    },
    {
      "cell_type": "markdown",
      "source": [
        "Предобрабатываем текст отзыва"
      ],
      "metadata": {
        "id": "34lm4sdUAoVl"
      }
    },
    {
      "cell_type": "code",
      "execution_count": 58,
      "metadata": {
        "colab": {
          "base_uri": "https://localhost:8080/",
          "height": 423
        },
        "id": "YjmiZLqkzKS1",
        "outputId": "6f8ea829-27ae-4a54-d793-975e842573fe"
      },
      "outputs": [
        {
          "output_type": "execute_result",
          "data": {
            "text/plain": [
              "     Unnamed: 0                                               text  label\n",
              "0             0  [мочь, сказать, точно, книга, хотя, хороший, ф...      0\n",
              "1             1  [сказать, всё, смешаться, дом, облонской, ...,...      0\n",
              "2             2  [очень, поучительный, книга, взаимоотношение, ...      0\n",
              "3             3  [книга, очень, интересный, читаться, легко, за...      0\n",
              "4             4  [второй, часть, «, сумеречный, сага, », второй...      0\n",
              "..          ...                                                ...    ...\n",
              "235         235  [очень, интересный, книга, замечательный, ирла...      1\n",
              "236         236  [родитель, который, хотеть, обогатить, фантази...      1\n",
              "237         237  [увлекательный, книга, сочетать, жанр, фантаст...      1\n",
              "238         238  [произведение, заполниться, первый, очередь, ф...      1\n",
              "239         239  [захватывать, роман, любовь, который, читаться...      1\n",
              "\n",
              "[240 rows x 3 columns]"
            ],
            "text/html": [
              "\n",
              "  <div id=\"df-cb57b901-7423-41ba-8fc9-f17a34550543\" class=\"colab-df-container\">\n",
              "    <div>\n",
              "<style scoped>\n",
              "    .dataframe tbody tr th:only-of-type {\n",
              "        vertical-align: middle;\n",
              "    }\n",
              "\n",
              "    .dataframe tbody tr th {\n",
              "        vertical-align: top;\n",
              "    }\n",
              "\n",
              "    .dataframe thead th {\n",
              "        text-align: right;\n",
              "    }\n",
              "</style>\n",
              "<table border=\"1\" class=\"dataframe\">\n",
              "  <thead>\n",
              "    <tr style=\"text-align: right;\">\n",
              "      <th></th>\n",
              "      <th>Unnamed: 0</th>\n",
              "      <th>text</th>\n",
              "      <th>label</th>\n",
              "    </tr>\n",
              "  </thead>\n",
              "  <tbody>\n",
              "    <tr>\n",
              "      <th>0</th>\n",
              "      <td>0</td>\n",
              "      <td>[мочь, сказать, точно, книга, хотя, хороший, ф...</td>\n",
              "      <td>0</td>\n",
              "    </tr>\n",
              "    <tr>\n",
              "      <th>1</th>\n",
              "      <td>1</td>\n",
              "      <td>[сказать, всё, смешаться, дом, облонской, ...,...</td>\n",
              "      <td>0</td>\n",
              "    </tr>\n",
              "    <tr>\n",
              "      <th>2</th>\n",
              "      <td>2</td>\n",
              "      <td>[очень, поучительный, книга, взаимоотношение, ...</td>\n",
              "      <td>0</td>\n",
              "    </tr>\n",
              "    <tr>\n",
              "      <th>3</th>\n",
              "      <td>3</td>\n",
              "      <td>[книга, очень, интересный, читаться, легко, за...</td>\n",
              "      <td>0</td>\n",
              "    </tr>\n",
              "    <tr>\n",
              "      <th>4</th>\n",
              "      <td>4</td>\n",
              "      <td>[второй, часть, «, сумеречный, сага, », второй...</td>\n",
              "      <td>0</td>\n",
              "    </tr>\n",
              "    <tr>\n",
              "      <th>...</th>\n",
              "      <td>...</td>\n",
              "      <td>...</td>\n",
              "      <td>...</td>\n",
              "    </tr>\n",
              "    <tr>\n",
              "      <th>235</th>\n",
              "      <td>235</td>\n",
              "      <td>[очень, интересный, книга, замечательный, ирла...</td>\n",
              "      <td>1</td>\n",
              "    </tr>\n",
              "    <tr>\n",
              "      <th>236</th>\n",
              "      <td>236</td>\n",
              "      <td>[родитель, который, хотеть, обогатить, фантази...</td>\n",
              "      <td>1</td>\n",
              "    </tr>\n",
              "    <tr>\n",
              "      <th>237</th>\n",
              "      <td>237</td>\n",
              "      <td>[увлекательный, книга, сочетать, жанр, фантаст...</td>\n",
              "      <td>1</td>\n",
              "    </tr>\n",
              "    <tr>\n",
              "      <th>238</th>\n",
              "      <td>238</td>\n",
              "      <td>[произведение, заполниться, первый, очередь, ф...</td>\n",
              "      <td>1</td>\n",
              "    </tr>\n",
              "    <tr>\n",
              "      <th>239</th>\n",
              "      <td>239</td>\n",
              "      <td>[захватывать, роман, любовь, который, читаться...</td>\n",
              "      <td>1</td>\n",
              "    </tr>\n",
              "  </tbody>\n",
              "</table>\n",
              "<p>240 rows × 3 columns</p>\n",
              "</div>\n",
              "    <div class=\"colab-df-buttons\">\n",
              "\n",
              "  <div class=\"colab-df-container\">\n",
              "    <button class=\"colab-df-convert\" onclick=\"convertToInteractive('df-cb57b901-7423-41ba-8fc9-f17a34550543')\"\n",
              "            title=\"Convert this dataframe to an interactive table.\"\n",
              "            style=\"display:none;\">\n",
              "\n",
              "  <svg xmlns=\"http://www.w3.org/2000/svg\" height=\"24px\" viewBox=\"0 -960 960 960\">\n",
              "    <path d=\"M120-120v-720h720v720H120Zm60-500h600v-160H180v160Zm220 220h160v-160H400v160Zm0 220h160v-160H400v160ZM180-400h160v-160H180v160Zm440 0h160v-160H620v160ZM180-180h160v-160H180v160Zm440 0h160v-160H620v160Z\"/>\n",
              "  </svg>\n",
              "    </button>\n",
              "\n",
              "  <style>\n",
              "    .colab-df-container {\n",
              "      display:flex;\n",
              "      gap: 12px;\n",
              "    }\n",
              "\n",
              "    .colab-df-convert {\n",
              "      background-color: #E8F0FE;\n",
              "      border: none;\n",
              "      border-radius: 50%;\n",
              "      cursor: pointer;\n",
              "      display: none;\n",
              "      fill: #1967D2;\n",
              "      height: 32px;\n",
              "      padding: 0 0 0 0;\n",
              "      width: 32px;\n",
              "    }\n",
              "\n",
              "    .colab-df-convert:hover {\n",
              "      background-color: #E2EBFA;\n",
              "      box-shadow: 0px 1px 2px rgba(60, 64, 67, 0.3), 0px 1px 3px 1px rgba(60, 64, 67, 0.15);\n",
              "      fill: #174EA6;\n",
              "    }\n",
              "\n",
              "    .colab-df-buttons div {\n",
              "      margin-bottom: 4px;\n",
              "    }\n",
              "\n",
              "    [theme=dark] .colab-df-convert {\n",
              "      background-color: #3B4455;\n",
              "      fill: #D2E3FC;\n",
              "    }\n",
              "\n",
              "    [theme=dark] .colab-df-convert:hover {\n",
              "      background-color: #434B5C;\n",
              "      box-shadow: 0px 1px 3px 1px rgba(0, 0, 0, 0.15);\n",
              "      filter: drop-shadow(0px 1px 2px rgba(0, 0, 0, 0.3));\n",
              "      fill: #FFFFFF;\n",
              "    }\n",
              "  </style>\n",
              "\n",
              "    <script>\n",
              "      const buttonEl =\n",
              "        document.querySelector('#df-cb57b901-7423-41ba-8fc9-f17a34550543 button.colab-df-convert');\n",
              "      buttonEl.style.display =\n",
              "        google.colab.kernel.accessAllowed ? 'block' : 'none';\n",
              "\n",
              "      async function convertToInteractive(key) {\n",
              "        const element = document.querySelector('#df-cb57b901-7423-41ba-8fc9-f17a34550543');\n",
              "        const dataTable =\n",
              "          await google.colab.kernel.invokeFunction('convertToInteractive',\n",
              "                                                    [key], {});\n",
              "        if (!dataTable) return;\n",
              "\n",
              "        const docLinkHtml = 'Like what you see? Visit the ' +\n",
              "          '<a target=\"_blank\" href=https://colab.research.google.com/notebooks/data_table.ipynb>data table notebook</a>'\n",
              "          + ' to learn more about interactive tables.';\n",
              "        element.innerHTML = '';\n",
              "        dataTable['output_type'] = 'display_data';\n",
              "        await google.colab.output.renderOutput(dataTable, element);\n",
              "        const docLink = document.createElement('div');\n",
              "        docLink.innerHTML = docLinkHtml;\n",
              "        element.appendChild(docLink);\n",
              "      }\n",
              "    </script>\n",
              "  </div>\n",
              "\n",
              "\n",
              "<div id=\"df-3a4cc0af-3513-4ae1-981a-5ab6e6e58198\">\n",
              "  <button class=\"colab-df-quickchart\" onclick=\"quickchart('df-3a4cc0af-3513-4ae1-981a-5ab6e6e58198')\"\n",
              "            title=\"Suggest charts\"\n",
              "            style=\"display:none;\">\n",
              "\n",
              "<svg xmlns=\"http://www.w3.org/2000/svg\" height=\"24px\"viewBox=\"0 0 24 24\"\n",
              "     width=\"24px\">\n",
              "    <g>\n",
              "        <path d=\"M19 3H5c-1.1 0-2 .9-2 2v14c0 1.1.9 2 2 2h14c1.1 0 2-.9 2-2V5c0-1.1-.9-2-2-2zM9 17H7v-7h2v7zm4 0h-2V7h2v10zm4 0h-2v-4h2v4z\"/>\n",
              "    </g>\n",
              "</svg>\n",
              "  </button>\n",
              "\n",
              "<style>\n",
              "  .colab-df-quickchart {\n",
              "      --bg-color: #E8F0FE;\n",
              "      --fill-color: #1967D2;\n",
              "      --hover-bg-color: #E2EBFA;\n",
              "      --hover-fill-color: #174EA6;\n",
              "      --disabled-fill-color: #AAA;\n",
              "      --disabled-bg-color: #DDD;\n",
              "  }\n",
              "\n",
              "  [theme=dark] .colab-df-quickchart {\n",
              "      --bg-color: #3B4455;\n",
              "      --fill-color: #D2E3FC;\n",
              "      --hover-bg-color: #434B5C;\n",
              "      --hover-fill-color: #FFFFFF;\n",
              "      --disabled-bg-color: #3B4455;\n",
              "      --disabled-fill-color: #666;\n",
              "  }\n",
              "\n",
              "  .colab-df-quickchart {\n",
              "    background-color: var(--bg-color);\n",
              "    border: none;\n",
              "    border-radius: 50%;\n",
              "    cursor: pointer;\n",
              "    display: none;\n",
              "    fill: var(--fill-color);\n",
              "    height: 32px;\n",
              "    padding: 0;\n",
              "    width: 32px;\n",
              "  }\n",
              "\n",
              "  .colab-df-quickchart:hover {\n",
              "    background-color: var(--hover-bg-color);\n",
              "    box-shadow: 0 1px 2px rgba(60, 64, 67, 0.3), 0 1px 3px 1px rgba(60, 64, 67, 0.15);\n",
              "    fill: var(--button-hover-fill-color);\n",
              "  }\n",
              "\n",
              "  .colab-df-quickchart-complete:disabled,\n",
              "  .colab-df-quickchart-complete:disabled:hover {\n",
              "    background-color: var(--disabled-bg-color);\n",
              "    fill: var(--disabled-fill-color);\n",
              "    box-shadow: none;\n",
              "  }\n",
              "\n",
              "  .colab-df-spinner {\n",
              "    border: 2px solid var(--fill-color);\n",
              "    border-color: transparent;\n",
              "    border-bottom-color: var(--fill-color);\n",
              "    animation:\n",
              "      spin 1s steps(1) infinite;\n",
              "  }\n",
              "\n",
              "  @keyframes spin {\n",
              "    0% {\n",
              "      border-color: transparent;\n",
              "      border-bottom-color: var(--fill-color);\n",
              "      border-left-color: var(--fill-color);\n",
              "    }\n",
              "    20% {\n",
              "      border-color: transparent;\n",
              "      border-left-color: var(--fill-color);\n",
              "      border-top-color: var(--fill-color);\n",
              "    }\n",
              "    30% {\n",
              "      border-color: transparent;\n",
              "      border-left-color: var(--fill-color);\n",
              "      border-top-color: var(--fill-color);\n",
              "      border-right-color: var(--fill-color);\n",
              "    }\n",
              "    40% {\n",
              "      border-color: transparent;\n",
              "      border-right-color: var(--fill-color);\n",
              "      border-top-color: var(--fill-color);\n",
              "    }\n",
              "    60% {\n",
              "      border-color: transparent;\n",
              "      border-right-color: var(--fill-color);\n",
              "    }\n",
              "    80% {\n",
              "      border-color: transparent;\n",
              "      border-right-color: var(--fill-color);\n",
              "      border-bottom-color: var(--fill-color);\n",
              "    }\n",
              "    90% {\n",
              "      border-color: transparent;\n",
              "      border-bottom-color: var(--fill-color);\n",
              "    }\n",
              "  }\n",
              "</style>\n",
              "\n",
              "  <script>\n",
              "    async function quickchart(key) {\n",
              "      const quickchartButtonEl =\n",
              "        document.querySelector('#' + key + ' button');\n",
              "      quickchartButtonEl.disabled = true;  // To prevent multiple clicks.\n",
              "      quickchartButtonEl.classList.add('colab-df-spinner');\n",
              "      try {\n",
              "        const charts = await google.colab.kernel.invokeFunction(\n",
              "            'suggestCharts', [key], {});\n",
              "      } catch (error) {\n",
              "        console.error('Error during call to suggestCharts:', error);\n",
              "      }\n",
              "      quickchartButtonEl.classList.remove('colab-df-spinner');\n",
              "      quickchartButtonEl.classList.add('colab-df-quickchart-complete');\n",
              "    }\n",
              "    (() => {\n",
              "      let quickchartButtonEl =\n",
              "        document.querySelector('#df-3a4cc0af-3513-4ae1-981a-5ab6e6e58198 button');\n",
              "      quickchartButtonEl.style.display =\n",
              "        google.colab.kernel.accessAllowed ? 'block' : 'none';\n",
              "    })();\n",
              "  </script>\n",
              "</div>\n",
              "    </div>\n",
              "  </div>\n"
            ],
            "application/vnd.google.colaboratory.intrinsic+json": {
              "type": "dataframe",
              "variable_name": "df_lemmatized",
              "summary": "{\n  \"name\": \"df_lemmatized\",\n  \"rows\": 240,\n  \"fields\": [\n    {\n      \"column\": \"Unnamed: 0\",\n      \"properties\": {\n        \"dtype\": \"number\",\n        \"std\": 69,\n        \"min\": 0,\n        \"max\": 239,\n        \"num_unique_values\": 240,\n        \"samples\": [\n          24,\n          6,\n          93\n        ],\n        \"semantic_type\": \"\",\n        \"description\": \"\"\n      }\n    },\n    {\n      \"column\": \"text\",\n      \"properties\": {\n        \"dtype\": \"object\",\n        \"semantic_type\": \"\",\n        \"description\": \"\"\n      }\n    },\n    {\n      \"column\": \"label\",\n      \"properties\": {\n        \"dtype\": \"number\",\n        \"std\": 0,\n        \"min\": 0,\n        \"max\": 1,\n        \"num_unique_values\": 2,\n        \"samples\": [\n          1,\n          0\n        ],\n        \"semantic_type\": \"\",\n        \"description\": \"\"\n      }\n    }\n  ]\n}"
            }
          },
          "metadata": {},
          "execution_count": 58
        }
      ],
      "source": [
        "# Инициализируем лемматизатор\n",
        "morph = MorphAnalyzer()\n",
        "\n",
        "def preprocess_text(data):\n",
        "    # Токенизация\n",
        "    tokens = word_tokenize(data)\n",
        "    # Приведение к нижнему регистру\n",
        "    tokens = [token.lower() for token in tokens]\n",
        "    # Лемматизация\n",
        "    lemmas = []\n",
        "    for token in tokens:\n",
        "      lemma = morph.normal_forms(token)[0]\n",
        "      if lemma not in russian_stopwords: # Удаоение стоп-слов\n",
        "        if lemma not in (',', '.', '!', '\"', '?', ';', ':', '-', '–'):\n",
        "          lemmas.append(lemma)\n",
        "\n",
        "    return lemmas\n",
        "\n",
        "# применяем функцию предобработки к столбцу 'text'\n",
        "df_lemmatized = df.copy()\n",
        "df_lemmatized['text'] = df_lemmatized['text'].apply(preprocess_text)\n",
        "\n",
        "df_lemmatized"
      ]
    },
    {
      "cell_type": "markdown",
      "source": [
        "Делим предобработанный датафрейм на тестовую и трейновую выборки."
      ],
      "metadata": {
        "id": "4JtOci4Ll_ai"
      }
    },
    {
      "cell_type": "code",
      "execution_count": 59,
      "metadata": {
        "id": "oypItUyjWwV7"
      },
      "outputs": [],
      "source": [
        "from sklearn.model_selection import train_test_split\n",
        "# у нас нет У_train / test, потому что в качестве айтема у нас целая строка датафрейма\n",
        "X_train, X_test = train_test_split(df_lemmatized, test_size=0.2, random_state=42)"
      ]
    },
    {
      "cell_type": "markdown",
      "source": [
        "Для трейновой выборки соберем все слова, которые встречаются в позитивных и негативных отзывах"
      ],
      "metadata": {
        "id": "CdA1YCnHmdlr"
      }
    },
    {
      "cell_type": "code",
      "source": [
        "def unique_words(X_train):\n",
        "  pos = [] # слова из позитивных отзывов\n",
        "\n",
        "  for rew in X_train[X_train['label'] == 1]['text']:\n",
        "      pos.extend(rew)\n",
        "\n",
        "  neg = [] # cлова из негативных отзывов\n",
        "\n",
        "  for rew in X_train[X_train['label'] == 0]['text']:\n",
        "      neg.extend(rew)\n",
        "\n",
        "  only_neg = set(neg) - set(pos)\n",
        "  only_pos = set(pos) - set(neg)\n",
        "\n",
        "  neg_freq = {}\n",
        "  pos_freq = {}\n",
        "\n",
        "  for text in X_train['text']:\n",
        "    for word in text:\n",
        "      if word in only_neg:\n",
        "        if word not in neg_freq.keys():\n",
        "          neg_freq[word]=1\n",
        "        else:\n",
        "          neg_freq[word]+=1\n",
        "      elif word in only_pos:\n",
        "        if word not in pos_freq.keys():\n",
        "          pos_freq[word]=1\n",
        "        else:\n",
        "          pos_freq[word]+=1\n",
        "      else:\n",
        "        pass\n",
        "\n",
        "  neg_count = [w[0] for w in Counter(neg_freq).most_common(100)] # выберем 100 самых частотных слов\n",
        "  pos_count = [w[0] for w in Counter(pos_freq).most_common(100)]\n",
        "\n",
        "  return neg_count, pos_count\n"
      ],
      "metadata": {
        "id": "Y1wXQqlDue_F"
      },
      "execution_count": 60,
      "outputs": []
    },
    {
      "cell_type": "code",
      "source": [
        "neg_count = unique_words(X_train)[0]\n",
        "pos_count = unique_words(X_train)[1]"
      ],
      "metadata": {
        "id": "h1evYEN6u2Xs"
      },
      "execution_count": 61,
      "outputs": []
    },
    {
      "cell_type": "markdown",
      "source": [
        "Определим простую функцию классификации: будем считать, каких слов встретилось больше: из списка уникально-положительных или уникально-отрицательных."
      ],
      "metadata": {
        "id": "djAVjux2nuuZ"
      }
    },
    {
      "cell_type": "code",
      "execution_count": 62,
      "metadata": {
        "id": "SZofU9vvadjT"
      },
      "outputs": [],
      "source": [
        "def simple_prediction(test_df):\n",
        "  global pos_count, neg_count\n",
        "\n",
        "  X_pred = []\n",
        "  p = 0\n",
        "  n = 0\n",
        "\n",
        "  for text in test_df['text']:\n",
        "\n",
        "    for wor in text:\n",
        "      if wor in pos_count:\n",
        "        p+=1\n",
        "      elif wor in neg_count:\n",
        "        n+=1\n",
        "      else:\n",
        "        pass\n",
        "\n",
        "    if p>n:\n",
        "      X_pred.append(1)\n",
        "    else:\n",
        "      X_pred.append(0)\n",
        "\n",
        "  return X_pred"
      ]
    },
    {
      "cell_type": "markdown",
      "source": [
        "Accuracy около 70%. Причина понятна -- в наши множества попало много мусорных слов, которые ничего не говорят о тональности текста."
      ],
      "metadata": {
        "id": "qBaDeGsnojeH"
      }
    },
    {
      "cell_type": "code",
      "source": [
        "X_pred = simple_prediction(X_test)\n",
        "\n",
        "accuracy_score(list(X_test['label']), X_pred)"
      ],
      "metadata": {
        "colab": {
          "base_uri": "https://localhost:8080/"
        },
        "id": "37VOElnH1bGb",
        "outputId": "867eb1d2-1c86-46e5-8878-9e4167f4c444"
      },
      "execution_count": 63,
      "outputs": [
        {
          "output_type": "execute_result",
          "data": {
            "text/plain": [
              "0.6875"
            ]
          },
          "metadata": {},
          "execution_count": 63
        }
      ]
    },
    {
      "cell_type": "markdown",
      "source": [
        "Попробуем выделить из отзывов ключевые слова по методу RAKE и смотреть, принадлежат ли **они** к спискам."
      ],
      "metadata": {
        "id": "06EjyqXyo5O-"
      }
    },
    {
      "cell_type": "code",
      "source": [
        "!pip3 install rake-nltk\n",
        "from rake_nltk import Rake"
      ],
      "metadata": {
        "colab": {
          "base_uri": "https://localhost:8080/"
        },
        "id": "JqDTh_etGllM",
        "outputId": "4a97f9b1-5cd4-4db7-8122-45399f0245b3"
      },
      "execution_count": 64,
      "outputs": [
        {
          "output_type": "stream",
          "name": "stdout",
          "text": [
            "Requirement already satisfied: rake-nltk in /usr/local/lib/python3.10/dist-packages (1.0.6)\n",
            "Requirement already satisfied: nltk<4.0.0,>=3.6.2 in /usr/local/lib/python3.10/dist-packages (from rake-nltk) (3.8.1)\n",
            "Requirement already satisfied: click in /usr/local/lib/python3.10/dist-packages (from nltk<4.0.0,>=3.6.2->rake-nltk) (8.1.7)\n",
            "Requirement already satisfied: joblib in /usr/local/lib/python3.10/dist-packages (from nltk<4.0.0,>=3.6.2->rake-nltk) (1.4.2)\n",
            "Requirement already satisfied: regex>=2021.8.3 in /usr/local/lib/python3.10/dist-packages (from nltk<4.0.0,>=3.6.2->rake-nltk) (2024.9.11)\n",
            "Requirement already satisfied: tqdm in /usr/local/lib/python3.10/dist-packages (from nltk<4.0.0,>=3.6.2->rake-nltk) (4.66.5)\n"
          ]
        }
      ]
    },
    {
      "cell_type": "code",
      "source": [
        "r = Rake()"
      ],
      "metadata": {
        "id": "GBvmV8SUGzLu"
      },
      "execution_count": 65,
      "outputs": []
    },
    {
      "cell_type": "code",
      "source": [
        "def kw_prediction(test_df):\n",
        "  global pos_count, neg_count\n",
        "\n",
        "\n",
        "  X_pred = []\n",
        "\n",
        "  p = 0\n",
        "  n = 0\n",
        "\n",
        "  for text in test_df['text']:\n",
        "\n",
        "    # выделяем ключевые слова или фразы (в случае фраз делим их по пробелам)\n",
        "    r.extract_keywords_from_text(' '.join(text))\n",
        "    keywords = r.get_ranked_phrases_with_scores()\n",
        "\n",
        "    kw = sum([key[1].split(' ') for key in keywords], [])\n",
        "\n",
        "    for wor in kw:\n",
        "      if wor in pos_count:\n",
        "        p+=1\n",
        "      elif wor in neg_count:\n",
        "        n+=1\n",
        "      else:\n",
        "        pass\n",
        "\n",
        "    if p>n:\n",
        "      X_pred.append(1)\n",
        "    else:\n",
        "      X_pred.append(0)\n",
        "\n",
        "  return X_pred"
      ],
      "metadata": {
        "id": "je4hjq01y4vi"
      },
      "execution_count": 66,
      "outputs": []
    },
    {
      "cell_type": "markdown",
      "source": [
        "Accuracy упала :( Хотя и ожидалось, что станет лучше (потому что мы проводим проверку слов на \"важность\" как бы два раза: сначала ограничивая их частотность в словаре уникальных слов, а потом еще и выделением ключевых слов в самом отзыве). Видимо, выделение ключевых слов не помогает для текстов такого маленького размера -- а даже мешает, потому что может удалить информативные для тональности слова.  "
      ],
      "metadata": {
        "id": "OEwyBeI5p3lU"
      }
    },
    {
      "cell_type": "code",
      "source": [
        "X_pred_1 = kw_prediction(X_test)\n",
        "\n",
        "accuracy_score(list(X_test['label']), X_pred_1)"
      ],
      "metadata": {
        "colab": {
          "base_uri": "https://localhost:8080/"
        },
        "id": "_bz1UL_GH1Mz",
        "outputId": "023b2c7b-93a2-4048-e660-3e409b28331b"
      },
      "execution_count": 67,
      "outputs": [
        {
          "output_type": "execute_result",
          "data": {
            "text/plain": [
              "0.6041666666666666"
            ]
          },
          "metadata": {},
          "execution_count": 67
        }
      ]
    },
    {
      "cell_type": "markdown",
      "source": [
        "Еще одна идея по улучшению -- учитывать не только наличие / отсутствие слова в списке позитивных / негативных слов, но и частотность слова в этих списках."
      ],
      "metadata": {
        "id": "ikrNulgQqOCc"
      }
    },
    {
      "cell_type": "markdown",
      "source": [
        "Посчитаем уникальные негативные / позитивные слова снова, но не в виде множества, а учитывая их изначальную частотность в текстах"
      ],
      "metadata": {
        "id": "VQ-ilY0WCRg-"
      }
    },
    {
      "cell_type": "code",
      "source": [
        "neg_count_freq = dict(Counter(neg_count))\n",
        "for k, v in neg_count_freq.items():\n",
        "  neg_count_freq[k]=neg_count_freq[k]/100\n",
        "\n",
        "pos_count_freq = dict(Counter(pos_count))\n",
        "for k, v in pos_count_freq.items():\n",
        "  pos_count_freq[k]=pos_count_freq[k]/100\n"
      ],
      "metadata": {
        "id": "jSjxYgQGqdkP"
      },
      "execution_count": 68,
      "outputs": []
    },
    {
      "cell_type": "code",
      "source": [
        "def freq_prediction(test_df):\n",
        "  global pos_count_freq, neg_count_freq\n",
        "\n",
        "\n",
        "  X_pred = []\n",
        "  p = 0\n",
        "  n = 0\n",
        "\n",
        "  for text in test_df['text']:\n",
        "    for wor in text:\n",
        "      if wor in pos_count_freq.keys():\n",
        "        p+=pos_count_freq[wor]\n",
        "      elif wor in neg_count_freq.keys():\n",
        "        n+=neg_count_freq[wor]\n",
        "      else:\n",
        "        pass\n",
        "\n",
        "\n",
        "    if p>n:\n",
        "      X_pred.append(1)\n",
        "    else:\n",
        "      X_pred.append(0)\n",
        "\n",
        "  return X_pred"
      ],
      "metadata": {
        "id": "aBpSj3xRqzAn"
      },
      "execution_count": 69,
      "outputs": []
    },
    {
      "cell_type": "markdown",
      "source": [
        "Accuracy не отличается от первого способа."
      ],
      "metadata": {
        "id": "6pc2Sl2_q93S"
      }
    },
    {
      "cell_type": "code",
      "source": [
        "X_pred_2 = freq_prediction(X_test)\n",
        "\n",
        "accuracy_score(list(X_test['label']), X_pred_2)"
      ],
      "metadata": {
        "colab": {
          "base_uri": "https://localhost:8080/"
        },
        "id": "spUJUbloq6On",
        "outputId": "c3f2db87-48b4-4153-9c2b-f9d2833453fd"
      },
      "execution_count": 70,
      "outputs": [
        {
          "output_type": "execute_result",
          "data": {
            "text/plain": [
              "0.6875"
            ]
          },
          "metadata": {},
          "execution_count": 70
        }
      ]
    },
    {
      "cell_type": "markdown",
      "source": [
        "Давайте теперь попробуем в изначальном датафрейме добавлять в выборку не все слова, а только ключевые. Для этого переделаем тестовую и трейновую выборки и пересчитаем все метрики заново."
      ],
      "metadata": {
        "id": "ODnmIDr1p6zO"
      }
    },
    {
      "cell_type": "code",
      "source": [
        "def kw_preprocess_text(data):\n",
        "    # Токенизация\n",
        "    tokens = word_tokenize(data)\n",
        "    # Приведение к нижнему регистру\n",
        "    tokens = [token.lower() for token in tokens]\n",
        "    # Лемматизация\n",
        "    lemmas = []\n",
        "    for token in tokens:\n",
        "      lemma = morph.normal_forms(token)[0]\n",
        "      if lemma not in russian_stopwords:\n",
        "        if lemma not in (',', '.', '!', '\"', '?', ';', ':', '-', '–'):\n",
        "          lemmas.append(lemma)\n",
        "\n",
        "    r.extract_keywords_from_text(' '.join(lemmas))\n",
        "    keywords = r.get_ranked_phrases_with_scores()\n",
        "\n",
        "    kw = list(set(sum([key[1].split(' ') for key in keywords[:3]], [])))\n",
        "\n",
        "    return kw\n",
        "\n",
        "# Применяем функцию предобработки к столбцу 'text'\n",
        "df_kw = df.copy()\n",
        "df_kw['text'] = df_kw['text'].apply(kw_preprocess_text)\n",
        "\n",
        "# Вывод результата (для проверки)\n",
        "df_kw"
      ],
      "metadata": {
        "colab": {
          "base_uri": "https://localhost:8080/",
          "height": 423
        },
        "id": "wRfq4grBIcA4",
        "outputId": "4d8b050c-a82b-482c-d10f-2025aed5e8cd"
      },
      "execution_count": 39,
      "outputs": [
        {
          "output_type": "execute_result",
          "data": {
            "text/plain": [
              "     Unnamed: 0                                               text  label\n",
              "0             0  [однако, сходить, вообще, хороший, точно, науч...      0\n",
              "1             1  [сделать, ещё, ...., ..., враг, смешаться, тре...      0\n",
              "2             2  [взаимоотношение, учебник, поступок, поучитель...      0\n",
              "3             3  [...., пора, отшельник, чудо, большой, понять,...      0\n",
              "4             4  [девушка, героиня, сумеречный, второй, взаимоо...      0\n",
              "..          ...                                                ...    ...\n",
              "235         235  [глаз, увы, целое, сесилия, замечательный, сле...      1\n",
              "236         236  [краска, стаж, родитель, 100, янушко, волшебны...      1\n",
              "237         237  [главное, сочетать, подросток, описывать, крас...      1\n",
              "238         238  [безысходность, фраза, любимый, жизнь, болезне...      1\n",
              "239         239  [девушка, наказать, влюбиться, захватывать, св...      1\n",
              "\n",
              "[240 rows x 3 columns]"
            ],
            "text/html": [
              "\n",
              "  <div id=\"df-c392260e-5166-4169-a083-a76cec93a527\" class=\"colab-df-container\">\n",
              "    <div>\n",
              "<style scoped>\n",
              "    .dataframe tbody tr th:only-of-type {\n",
              "        vertical-align: middle;\n",
              "    }\n",
              "\n",
              "    .dataframe tbody tr th {\n",
              "        vertical-align: top;\n",
              "    }\n",
              "\n",
              "    .dataframe thead th {\n",
              "        text-align: right;\n",
              "    }\n",
              "</style>\n",
              "<table border=\"1\" class=\"dataframe\">\n",
              "  <thead>\n",
              "    <tr style=\"text-align: right;\">\n",
              "      <th></th>\n",
              "      <th>Unnamed: 0</th>\n",
              "      <th>text</th>\n",
              "      <th>label</th>\n",
              "    </tr>\n",
              "  </thead>\n",
              "  <tbody>\n",
              "    <tr>\n",
              "      <th>0</th>\n",
              "      <td>0</td>\n",
              "      <td>[однако, сходить, вообще, хороший, точно, науч...</td>\n",
              "      <td>0</td>\n",
              "    </tr>\n",
              "    <tr>\n",
              "      <th>1</th>\n",
              "      <td>1</td>\n",
              "      <td>[сделать, ещё, ...., ..., враг, смешаться, тре...</td>\n",
              "      <td>0</td>\n",
              "    </tr>\n",
              "    <tr>\n",
              "      <th>2</th>\n",
              "      <td>2</td>\n",
              "      <td>[взаимоотношение, учебник, поступок, поучитель...</td>\n",
              "      <td>0</td>\n",
              "    </tr>\n",
              "    <tr>\n",
              "      <th>3</th>\n",
              "      <td>3</td>\n",
              "      <td>[...., пора, отшельник, чудо, большой, понять,...</td>\n",
              "      <td>0</td>\n",
              "    </tr>\n",
              "    <tr>\n",
              "      <th>4</th>\n",
              "      <td>4</td>\n",
              "      <td>[девушка, героиня, сумеречный, второй, взаимоо...</td>\n",
              "      <td>0</td>\n",
              "    </tr>\n",
              "    <tr>\n",
              "      <th>...</th>\n",
              "      <td>...</td>\n",
              "      <td>...</td>\n",
              "      <td>...</td>\n",
              "    </tr>\n",
              "    <tr>\n",
              "      <th>235</th>\n",
              "      <td>235</td>\n",
              "      <td>[глаз, увы, целое, сесилия, замечательный, сле...</td>\n",
              "      <td>1</td>\n",
              "    </tr>\n",
              "    <tr>\n",
              "      <th>236</th>\n",
              "      <td>236</td>\n",
              "      <td>[краска, стаж, родитель, 100, янушко, волшебны...</td>\n",
              "      <td>1</td>\n",
              "    </tr>\n",
              "    <tr>\n",
              "      <th>237</th>\n",
              "      <td>237</td>\n",
              "      <td>[главное, сочетать, подросток, описывать, крас...</td>\n",
              "      <td>1</td>\n",
              "    </tr>\n",
              "    <tr>\n",
              "      <th>238</th>\n",
              "      <td>238</td>\n",
              "      <td>[безысходность, фраза, любимый, жизнь, болезне...</td>\n",
              "      <td>1</td>\n",
              "    </tr>\n",
              "    <tr>\n",
              "      <th>239</th>\n",
              "      <td>239</td>\n",
              "      <td>[девушка, наказать, влюбиться, захватывать, св...</td>\n",
              "      <td>1</td>\n",
              "    </tr>\n",
              "  </tbody>\n",
              "</table>\n",
              "<p>240 rows × 3 columns</p>\n",
              "</div>\n",
              "    <div class=\"colab-df-buttons\">\n",
              "\n",
              "  <div class=\"colab-df-container\">\n",
              "    <button class=\"colab-df-convert\" onclick=\"convertToInteractive('df-c392260e-5166-4169-a083-a76cec93a527')\"\n",
              "            title=\"Convert this dataframe to an interactive table.\"\n",
              "            style=\"display:none;\">\n",
              "\n",
              "  <svg xmlns=\"http://www.w3.org/2000/svg\" height=\"24px\" viewBox=\"0 -960 960 960\">\n",
              "    <path d=\"M120-120v-720h720v720H120Zm60-500h600v-160H180v160Zm220 220h160v-160H400v160Zm0 220h160v-160H400v160ZM180-400h160v-160H180v160Zm440 0h160v-160H620v160ZM180-180h160v-160H180v160Zm440 0h160v-160H620v160Z\"/>\n",
              "  </svg>\n",
              "    </button>\n",
              "\n",
              "  <style>\n",
              "    .colab-df-container {\n",
              "      display:flex;\n",
              "      gap: 12px;\n",
              "    }\n",
              "\n",
              "    .colab-df-convert {\n",
              "      background-color: #E8F0FE;\n",
              "      border: none;\n",
              "      border-radius: 50%;\n",
              "      cursor: pointer;\n",
              "      display: none;\n",
              "      fill: #1967D2;\n",
              "      height: 32px;\n",
              "      padding: 0 0 0 0;\n",
              "      width: 32px;\n",
              "    }\n",
              "\n",
              "    .colab-df-convert:hover {\n",
              "      background-color: #E2EBFA;\n",
              "      box-shadow: 0px 1px 2px rgba(60, 64, 67, 0.3), 0px 1px 3px 1px rgba(60, 64, 67, 0.15);\n",
              "      fill: #174EA6;\n",
              "    }\n",
              "\n",
              "    .colab-df-buttons div {\n",
              "      margin-bottom: 4px;\n",
              "    }\n",
              "\n",
              "    [theme=dark] .colab-df-convert {\n",
              "      background-color: #3B4455;\n",
              "      fill: #D2E3FC;\n",
              "    }\n",
              "\n",
              "    [theme=dark] .colab-df-convert:hover {\n",
              "      background-color: #434B5C;\n",
              "      box-shadow: 0px 1px 3px 1px rgba(0, 0, 0, 0.15);\n",
              "      filter: drop-shadow(0px 1px 2px rgba(0, 0, 0, 0.3));\n",
              "      fill: #FFFFFF;\n",
              "    }\n",
              "  </style>\n",
              "\n",
              "    <script>\n",
              "      const buttonEl =\n",
              "        document.querySelector('#df-c392260e-5166-4169-a083-a76cec93a527 button.colab-df-convert');\n",
              "      buttonEl.style.display =\n",
              "        google.colab.kernel.accessAllowed ? 'block' : 'none';\n",
              "\n",
              "      async function convertToInteractive(key) {\n",
              "        const element = document.querySelector('#df-c392260e-5166-4169-a083-a76cec93a527');\n",
              "        const dataTable =\n",
              "          await google.colab.kernel.invokeFunction('convertToInteractive',\n",
              "                                                    [key], {});\n",
              "        if (!dataTable) return;\n",
              "\n",
              "        const docLinkHtml = 'Like what you see? Visit the ' +\n",
              "          '<a target=\"_blank\" href=https://colab.research.google.com/notebooks/data_table.ipynb>data table notebook</a>'\n",
              "          + ' to learn more about interactive tables.';\n",
              "        element.innerHTML = '';\n",
              "        dataTable['output_type'] = 'display_data';\n",
              "        await google.colab.output.renderOutput(dataTable, element);\n",
              "        const docLink = document.createElement('div');\n",
              "        docLink.innerHTML = docLinkHtml;\n",
              "        element.appendChild(docLink);\n",
              "      }\n",
              "    </script>\n",
              "  </div>\n",
              "\n",
              "\n",
              "<div id=\"df-aba7d495-5d1d-4d9a-9220-3a71adfe4586\">\n",
              "  <button class=\"colab-df-quickchart\" onclick=\"quickchart('df-aba7d495-5d1d-4d9a-9220-3a71adfe4586')\"\n",
              "            title=\"Suggest charts\"\n",
              "            style=\"display:none;\">\n",
              "\n",
              "<svg xmlns=\"http://www.w3.org/2000/svg\" height=\"24px\"viewBox=\"0 0 24 24\"\n",
              "     width=\"24px\">\n",
              "    <g>\n",
              "        <path d=\"M19 3H5c-1.1 0-2 .9-2 2v14c0 1.1.9 2 2 2h14c1.1 0 2-.9 2-2V5c0-1.1-.9-2-2-2zM9 17H7v-7h2v7zm4 0h-2V7h2v10zm4 0h-2v-4h2v4z\"/>\n",
              "    </g>\n",
              "</svg>\n",
              "  </button>\n",
              "\n",
              "<style>\n",
              "  .colab-df-quickchart {\n",
              "      --bg-color: #E8F0FE;\n",
              "      --fill-color: #1967D2;\n",
              "      --hover-bg-color: #E2EBFA;\n",
              "      --hover-fill-color: #174EA6;\n",
              "      --disabled-fill-color: #AAA;\n",
              "      --disabled-bg-color: #DDD;\n",
              "  }\n",
              "\n",
              "  [theme=dark] .colab-df-quickchart {\n",
              "      --bg-color: #3B4455;\n",
              "      --fill-color: #D2E3FC;\n",
              "      --hover-bg-color: #434B5C;\n",
              "      --hover-fill-color: #FFFFFF;\n",
              "      --disabled-bg-color: #3B4455;\n",
              "      --disabled-fill-color: #666;\n",
              "  }\n",
              "\n",
              "  .colab-df-quickchart {\n",
              "    background-color: var(--bg-color);\n",
              "    border: none;\n",
              "    border-radius: 50%;\n",
              "    cursor: pointer;\n",
              "    display: none;\n",
              "    fill: var(--fill-color);\n",
              "    height: 32px;\n",
              "    padding: 0;\n",
              "    width: 32px;\n",
              "  }\n",
              "\n",
              "  .colab-df-quickchart:hover {\n",
              "    background-color: var(--hover-bg-color);\n",
              "    box-shadow: 0 1px 2px rgba(60, 64, 67, 0.3), 0 1px 3px 1px rgba(60, 64, 67, 0.15);\n",
              "    fill: var(--button-hover-fill-color);\n",
              "  }\n",
              "\n",
              "  .colab-df-quickchart-complete:disabled,\n",
              "  .colab-df-quickchart-complete:disabled:hover {\n",
              "    background-color: var(--disabled-bg-color);\n",
              "    fill: var(--disabled-fill-color);\n",
              "    box-shadow: none;\n",
              "  }\n",
              "\n",
              "  .colab-df-spinner {\n",
              "    border: 2px solid var(--fill-color);\n",
              "    border-color: transparent;\n",
              "    border-bottom-color: var(--fill-color);\n",
              "    animation:\n",
              "      spin 1s steps(1) infinite;\n",
              "  }\n",
              "\n",
              "  @keyframes spin {\n",
              "    0% {\n",
              "      border-color: transparent;\n",
              "      border-bottom-color: var(--fill-color);\n",
              "      border-left-color: var(--fill-color);\n",
              "    }\n",
              "    20% {\n",
              "      border-color: transparent;\n",
              "      border-left-color: var(--fill-color);\n",
              "      border-top-color: var(--fill-color);\n",
              "    }\n",
              "    30% {\n",
              "      border-color: transparent;\n",
              "      border-left-color: var(--fill-color);\n",
              "      border-top-color: var(--fill-color);\n",
              "      border-right-color: var(--fill-color);\n",
              "    }\n",
              "    40% {\n",
              "      border-color: transparent;\n",
              "      border-right-color: var(--fill-color);\n",
              "      border-top-color: var(--fill-color);\n",
              "    }\n",
              "    60% {\n",
              "      border-color: transparent;\n",
              "      border-right-color: var(--fill-color);\n",
              "    }\n",
              "    80% {\n",
              "      border-color: transparent;\n",
              "      border-right-color: var(--fill-color);\n",
              "      border-bottom-color: var(--fill-color);\n",
              "    }\n",
              "    90% {\n",
              "      border-color: transparent;\n",
              "      border-bottom-color: var(--fill-color);\n",
              "    }\n",
              "  }\n",
              "</style>\n",
              "\n",
              "  <script>\n",
              "    async function quickchart(key) {\n",
              "      const quickchartButtonEl =\n",
              "        document.querySelector('#' + key + ' button');\n",
              "      quickchartButtonEl.disabled = true;  // To prevent multiple clicks.\n",
              "      quickchartButtonEl.classList.add('colab-df-spinner');\n",
              "      try {\n",
              "        const charts = await google.colab.kernel.invokeFunction(\n",
              "            'suggestCharts', [key], {});\n",
              "      } catch (error) {\n",
              "        console.error('Error during call to suggestCharts:', error);\n",
              "      }\n",
              "      quickchartButtonEl.classList.remove('colab-df-spinner');\n",
              "      quickchartButtonEl.classList.add('colab-df-quickchart-complete');\n",
              "    }\n",
              "    (() => {\n",
              "      let quickchartButtonEl =\n",
              "        document.querySelector('#df-aba7d495-5d1d-4d9a-9220-3a71adfe4586 button');\n",
              "      quickchartButtonEl.style.display =\n",
              "        google.colab.kernel.accessAllowed ? 'block' : 'none';\n",
              "    })();\n",
              "  </script>\n",
              "</div>\n",
              "    </div>\n",
              "  </div>\n"
            ],
            "application/vnd.google.colaboratory.intrinsic+json": {
              "type": "dataframe",
              "variable_name": "df_kw",
              "summary": "{\n  \"name\": \"df_kw\",\n  \"rows\": 240,\n  \"fields\": [\n    {\n      \"column\": \"Unnamed: 0\",\n      \"properties\": {\n        \"dtype\": \"number\",\n        \"std\": 69,\n        \"min\": 0,\n        \"max\": 239,\n        \"num_unique_values\": 240,\n        \"samples\": [\n          24,\n          6,\n          93\n        ],\n        \"semantic_type\": \"\",\n        \"description\": \"\"\n      }\n    },\n    {\n      \"column\": \"text\",\n      \"properties\": {\n        \"dtype\": \"object\",\n        \"semantic_type\": \"\",\n        \"description\": \"\"\n      }\n    },\n    {\n      \"column\": \"label\",\n      \"properties\": {\n        \"dtype\": \"number\",\n        \"std\": 0,\n        \"min\": 0,\n        \"max\": 1,\n        \"num_unique_values\": 2,\n        \"samples\": [\n          1,\n          0\n        ],\n        \"semantic_type\": \"\",\n        \"description\": \"\"\n      }\n    }\n  ]\n}"
            }
          },
          "metadata": {},
          "execution_count": 39
        }
      ]
    },
    {
      "cell_type": "code",
      "source": [
        "X_train_1, X_test_1 = train_test_split(df_kw, test_size=0.2, random_state=42)"
      ],
      "metadata": {
        "id": "O4NtXm9TI4bj"
      },
      "execution_count": 40,
      "outputs": []
    },
    {
      "cell_type": "code",
      "source": [
        "neg_count = unique_words(X_train_1)[0]\n",
        "pos_count = unique_words(X_train_1)[1]"
      ],
      "metadata": {
        "id": "IWcpF42HvhfB"
      },
      "execution_count": 41,
      "outputs": []
    },
    {
      "cell_type": "code",
      "source": [
        "X_pred_21 = simple_prediction(X_test_1)\n",
        "\n",
        "accuracy_score(list(X_test_1['label']), X_pred_21)"
      ],
      "metadata": {
        "colab": {
          "base_uri": "https://localhost:8080/"
        },
        "id": "y9HomZGPI5VL",
        "outputId": "c07e91af-a5b5-4bc0-e47e-df9ff2961c02"
      },
      "execution_count": 42,
      "outputs": [
        {
          "output_type": "execute_result",
          "data": {
            "text/plain": [
              "0.6458333333333334"
            ]
          },
          "metadata": {},
          "execution_count": 42
        }
      ]
    },
    {
      "cell_type": "code",
      "source": [
        "X_pred_22 = kw_prediction(X_test_1)\n",
        "\n",
        "accuracy_score(list(X_test_1['label']), X_pred_22)"
      ],
      "metadata": {
        "colab": {
          "base_uri": "https://localhost:8080/"
        },
        "id": "iV6uDvaFKP_e",
        "outputId": "3468c117-5f28-4ba3-d02a-1f28f3f2a104"
      },
      "execution_count": 43,
      "outputs": [
        {
          "output_type": "execute_result",
          "data": {
            "text/plain": [
              "0.6458333333333334"
            ]
          },
          "metadata": {},
          "execution_count": 43
        }
      ]
    },
    {
      "cell_type": "markdown",
      "source": [
        "Accuracy функций чуть-чуть упала по сравнению с простым каунтом (и чуть возросла по сравнению с каунтом по ключевым словам в отзыве) Видимо, выделять ключевые слова лучше и в изначальных текстах, и в отзывах (но этот способ всё равно не самый лучший). Среди трех функций, берущих в виде инпута датафрейм с ключевыми словами, accuracy не меняется.\n",
        "\n",
        "Важно, что качество в целом всё равно падает: ключевые слова опять обрезают нам часть информативных слов, как это было выше."
      ],
      "metadata": {
        "id": "FSHlLfpurnH2"
      }
    },
    {
      "cell_type": "code",
      "source": [
        "neg_count_freq = dict(Counter(neg_count))\n",
        "for k, v in neg_count_freq.items():\n",
        "  neg_count_freq[k]=neg_count_freq[k]/100\n",
        "\n",
        "pos_count_freq = dict(Counter(pos_count))\n",
        "for k, v in pos_count_freq.items():\n",
        "  pos_count_freq[k]=pos_count_freq[k]/100"
      ],
      "metadata": {
        "id": "21aqND9QwYJP"
      },
      "execution_count": 44,
      "outputs": []
    },
    {
      "cell_type": "code",
      "source": [
        "X_pred_23 = freq_prediction(X_test_1)\n",
        "\n",
        "accuracy_score(list(X_test_1['label']), X_pred_23)"
      ],
      "metadata": {
        "colab": {
          "base_uri": "https://localhost:8080/"
        },
        "id": "4juhaJaNNcYx",
        "outputId": "d2d6b2b4-74bb-4e92-f710-dc1a17d09c06"
      },
      "execution_count": 45,
      "outputs": [
        {
          "output_type": "execute_result",
          "data": {
            "text/plain": [
              "0.6458333333333334"
            ]
          },
          "metadata": {},
          "execution_count": 45
        }
      ]
    },
    {
      "cell_type": "markdown",
      "source": [
        "Интересно, падает ли качество, если не удалять стоп-слова?"
      ],
      "metadata": {
        "id": "WvAelW5gt4ku"
      }
    },
    {
      "cell_type": "code",
      "source": [
        "def with_sw(data):\n",
        "    # Токенизация\n",
        "    tokens = word_tokenize(data)\n",
        "    # Приведение к нижнему регистру\n",
        "    tokens = [token.lower() for token in tokens]\n",
        "    # Лемматизация\n",
        "    lemmas = []\n",
        "    for token in tokens:\n",
        "      lemma = morph.normal_forms(token)[0]\n",
        "      lemmas.append(lemma)\n",
        "\n",
        "    return lemmas\n",
        "\n",
        "# Применяем функцию предобработки к столбцу 'text'\n",
        "df_sw = df.copy()\n",
        "df_sw['text'] = df_sw['text'].apply(with_sw)\n",
        "\n",
        "# Вывод результата (для проверки)\n",
        "df_sw"
      ],
      "metadata": {
        "colab": {
          "base_uri": "https://localhost:8080/",
          "height": 423
        },
        "id": "XmJkOX-mt_Jk",
        "outputId": "20b6b923-8320-4d11-e999-643b13c02eac"
      },
      "execution_count": 46,
      "outputs": [
        {
          "output_type": "execute_result",
          "data": {
            "text/plain": [
              "     Unnamed: 0                                               text  label\n",
              "0             0  [мочь, сказать, точно, ,, что, книга, хотя, бы...      0\n",
              "1             1  [можно, сказать, -, всё, смешаться, в, дом, об...      0\n",
              "2             2  [очень, поучительный, книга, о, взаимоотношени...      0\n",
              "3             3  [книга, очень, интересный, !, читаться, легко,...      0\n",
              "4             4  [второй, часть, «, сумеречный, сага, », ,, вто...      0\n",
              "..          ...                                                ...    ...\n",
              "235         235  [очень, интересный, книга, замечательный, ирла...      1\n",
              "236         236  [для, родитель, ,, который, хотеть, обогатить,...      1\n",
              "237         237  [увлекательный, книга, ., сочетать, в, себя, м...      1\n",
              "238         238  [я, произведение, заполниться, в, первый, очер...      1\n",
              "239         239  [захватывать, роман, о, любовь, ,, который, чи...      1\n",
              "\n",
              "[240 rows x 3 columns]"
            ],
            "text/html": [
              "\n",
              "  <div id=\"df-8d0c988f-8da4-4187-b1d0-b95296d98ed1\" class=\"colab-df-container\">\n",
              "    <div>\n",
              "<style scoped>\n",
              "    .dataframe tbody tr th:only-of-type {\n",
              "        vertical-align: middle;\n",
              "    }\n",
              "\n",
              "    .dataframe tbody tr th {\n",
              "        vertical-align: top;\n",
              "    }\n",
              "\n",
              "    .dataframe thead th {\n",
              "        text-align: right;\n",
              "    }\n",
              "</style>\n",
              "<table border=\"1\" class=\"dataframe\">\n",
              "  <thead>\n",
              "    <tr style=\"text-align: right;\">\n",
              "      <th></th>\n",
              "      <th>Unnamed: 0</th>\n",
              "      <th>text</th>\n",
              "      <th>label</th>\n",
              "    </tr>\n",
              "  </thead>\n",
              "  <tbody>\n",
              "    <tr>\n",
              "      <th>0</th>\n",
              "      <td>0</td>\n",
              "      <td>[мочь, сказать, точно, ,, что, книга, хотя, бы...</td>\n",
              "      <td>0</td>\n",
              "    </tr>\n",
              "    <tr>\n",
              "      <th>1</th>\n",
              "      <td>1</td>\n",
              "      <td>[можно, сказать, -, всё, смешаться, в, дом, об...</td>\n",
              "      <td>0</td>\n",
              "    </tr>\n",
              "    <tr>\n",
              "      <th>2</th>\n",
              "      <td>2</td>\n",
              "      <td>[очень, поучительный, книга, о, взаимоотношени...</td>\n",
              "      <td>0</td>\n",
              "    </tr>\n",
              "    <tr>\n",
              "      <th>3</th>\n",
              "      <td>3</td>\n",
              "      <td>[книга, очень, интересный, !, читаться, легко,...</td>\n",
              "      <td>0</td>\n",
              "    </tr>\n",
              "    <tr>\n",
              "      <th>4</th>\n",
              "      <td>4</td>\n",
              "      <td>[второй, часть, «, сумеречный, сага, », ,, вто...</td>\n",
              "      <td>0</td>\n",
              "    </tr>\n",
              "    <tr>\n",
              "      <th>...</th>\n",
              "      <td>...</td>\n",
              "      <td>...</td>\n",
              "      <td>...</td>\n",
              "    </tr>\n",
              "    <tr>\n",
              "      <th>235</th>\n",
              "      <td>235</td>\n",
              "      <td>[очень, интересный, книга, замечательный, ирла...</td>\n",
              "      <td>1</td>\n",
              "    </tr>\n",
              "    <tr>\n",
              "      <th>236</th>\n",
              "      <td>236</td>\n",
              "      <td>[для, родитель, ,, который, хотеть, обогатить,...</td>\n",
              "      <td>1</td>\n",
              "    </tr>\n",
              "    <tr>\n",
              "      <th>237</th>\n",
              "      <td>237</td>\n",
              "      <td>[увлекательный, книга, ., сочетать, в, себя, м...</td>\n",
              "      <td>1</td>\n",
              "    </tr>\n",
              "    <tr>\n",
              "      <th>238</th>\n",
              "      <td>238</td>\n",
              "      <td>[я, произведение, заполниться, в, первый, очер...</td>\n",
              "      <td>1</td>\n",
              "    </tr>\n",
              "    <tr>\n",
              "      <th>239</th>\n",
              "      <td>239</td>\n",
              "      <td>[захватывать, роман, о, любовь, ,, который, чи...</td>\n",
              "      <td>1</td>\n",
              "    </tr>\n",
              "  </tbody>\n",
              "</table>\n",
              "<p>240 rows × 3 columns</p>\n",
              "</div>\n",
              "    <div class=\"colab-df-buttons\">\n",
              "\n",
              "  <div class=\"colab-df-container\">\n",
              "    <button class=\"colab-df-convert\" onclick=\"convertToInteractive('df-8d0c988f-8da4-4187-b1d0-b95296d98ed1')\"\n",
              "            title=\"Convert this dataframe to an interactive table.\"\n",
              "            style=\"display:none;\">\n",
              "\n",
              "  <svg xmlns=\"http://www.w3.org/2000/svg\" height=\"24px\" viewBox=\"0 -960 960 960\">\n",
              "    <path d=\"M120-120v-720h720v720H120Zm60-500h600v-160H180v160Zm220 220h160v-160H400v160Zm0 220h160v-160H400v160ZM180-400h160v-160H180v160Zm440 0h160v-160H620v160ZM180-180h160v-160H180v160Zm440 0h160v-160H620v160Z\"/>\n",
              "  </svg>\n",
              "    </button>\n",
              "\n",
              "  <style>\n",
              "    .colab-df-container {\n",
              "      display:flex;\n",
              "      gap: 12px;\n",
              "    }\n",
              "\n",
              "    .colab-df-convert {\n",
              "      background-color: #E8F0FE;\n",
              "      border: none;\n",
              "      border-radius: 50%;\n",
              "      cursor: pointer;\n",
              "      display: none;\n",
              "      fill: #1967D2;\n",
              "      height: 32px;\n",
              "      padding: 0 0 0 0;\n",
              "      width: 32px;\n",
              "    }\n",
              "\n",
              "    .colab-df-convert:hover {\n",
              "      background-color: #E2EBFA;\n",
              "      box-shadow: 0px 1px 2px rgba(60, 64, 67, 0.3), 0px 1px 3px 1px rgba(60, 64, 67, 0.15);\n",
              "      fill: #174EA6;\n",
              "    }\n",
              "\n",
              "    .colab-df-buttons div {\n",
              "      margin-bottom: 4px;\n",
              "    }\n",
              "\n",
              "    [theme=dark] .colab-df-convert {\n",
              "      background-color: #3B4455;\n",
              "      fill: #D2E3FC;\n",
              "    }\n",
              "\n",
              "    [theme=dark] .colab-df-convert:hover {\n",
              "      background-color: #434B5C;\n",
              "      box-shadow: 0px 1px 3px 1px rgba(0, 0, 0, 0.15);\n",
              "      filter: drop-shadow(0px 1px 2px rgba(0, 0, 0, 0.3));\n",
              "      fill: #FFFFFF;\n",
              "    }\n",
              "  </style>\n",
              "\n",
              "    <script>\n",
              "      const buttonEl =\n",
              "        document.querySelector('#df-8d0c988f-8da4-4187-b1d0-b95296d98ed1 button.colab-df-convert');\n",
              "      buttonEl.style.display =\n",
              "        google.colab.kernel.accessAllowed ? 'block' : 'none';\n",
              "\n",
              "      async function convertToInteractive(key) {\n",
              "        const element = document.querySelector('#df-8d0c988f-8da4-4187-b1d0-b95296d98ed1');\n",
              "        const dataTable =\n",
              "          await google.colab.kernel.invokeFunction('convertToInteractive',\n",
              "                                                    [key], {});\n",
              "        if (!dataTable) return;\n",
              "\n",
              "        const docLinkHtml = 'Like what you see? Visit the ' +\n",
              "          '<a target=\"_blank\" href=https://colab.research.google.com/notebooks/data_table.ipynb>data table notebook</a>'\n",
              "          + ' to learn more about interactive tables.';\n",
              "        element.innerHTML = '';\n",
              "        dataTable['output_type'] = 'display_data';\n",
              "        await google.colab.output.renderOutput(dataTable, element);\n",
              "        const docLink = document.createElement('div');\n",
              "        docLink.innerHTML = docLinkHtml;\n",
              "        element.appendChild(docLink);\n",
              "      }\n",
              "    </script>\n",
              "  </div>\n",
              "\n",
              "\n",
              "<div id=\"df-3b73874c-27f0-4614-bb40-931020186022\">\n",
              "  <button class=\"colab-df-quickchart\" onclick=\"quickchart('df-3b73874c-27f0-4614-bb40-931020186022')\"\n",
              "            title=\"Suggest charts\"\n",
              "            style=\"display:none;\">\n",
              "\n",
              "<svg xmlns=\"http://www.w3.org/2000/svg\" height=\"24px\"viewBox=\"0 0 24 24\"\n",
              "     width=\"24px\">\n",
              "    <g>\n",
              "        <path d=\"M19 3H5c-1.1 0-2 .9-2 2v14c0 1.1.9 2 2 2h14c1.1 0 2-.9 2-2V5c0-1.1-.9-2-2-2zM9 17H7v-7h2v7zm4 0h-2V7h2v10zm4 0h-2v-4h2v4z\"/>\n",
              "    </g>\n",
              "</svg>\n",
              "  </button>\n",
              "\n",
              "<style>\n",
              "  .colab-df-quickchart {\n",
              "      --bg-color: #E8F0FE;\n",
              "      --fill-color: #1967D2;\n",
              "      --hover-bg-color: #E2EBFA;\n",
              "      --hover-fill-color: #174EA6;\n",
              "      --disabled-fill-color: #AAA;\n",
              "      --disabled-bg-color: #DDD;\n",
              "  }\n",
              "\n",
              "  [theme=dark] .colab-df-quickchart {\n",
              "      --bg-color: #3B4455;\n",
              "      --fill-color: #D2E3FC;\n",
              "      --hover-bg-color: #434B5C;\n",
              "      --hover-fill-color: #FFFFFF;\n",
              "      --disabled-bg-color: #3B4455;\n",
              "      --disabled-fill-color: #666;\n",
              "  }\n",
              "\n",
              "  .colab-df-quickchart {\n",
              "    background-color: var(--bg-color);\n",
              "    border: none;\n",
              "    border-radius: 50%;\n",
              "    cursor: pointer;\n",
              "    display: none;\n",
              "    fill: var(--fill-color);\n",
              "    height: 32px;\n",
              "    padding: 0;\n",
              "    width: 32px;\n",
              "  }\n",
              "\n",
              "  .colab-df-quickchart:hover {\n",
              "    background-color: var(--hover-bg-color);\n",
              "    box-shadow: 0 1px 2px rgba(60, 64, 67, 0.3), 0 1px 3px 1px rgba(60, 64, 67, 0.15);\n",
              "    fill: var(--button-hover-fill-color);\n",
              "  }\n",
              "\n",
              "  .colab-df-quickchart-complete:disabled,\n",
              "  .colab-df-quickchart-complete:disabled:hover {\n",
              "    background-color: var(--disabled-bg-color);\n",
              "    fill: var(--disabled-fill-color);\n",
              "    box-shadow: none;\n",
              "  }\n",
              "\n",
              "  .colab-df-spinner {\n",
              "    border: 2px solid var(--fill-color);\n",
              "    border-color: transparent;\n",
              "    border-bottom-color: var(--fill-color);\n",
              "    animation:\n",
              "      spin 1s steps(1) infinite;\n",
              "  }\n",
              "\n",
              "  @keyframes spin {\n",
              "    0% {\n",
              "      border-color: transparent;\n",
              "      border-bottom-color: var(--fill-color);\n",
              "      border-left-color: var(--fill-color);\n",
              "    }\n",
              "    20% {\n",
              "      border-color: transparent;\n",
              "      border-left-color: var(--fill-color);\n",
              "      border-top-color: var(--fill-color);\n",
              "    }\n",
              "    30% {\n",
              "      border-color: transparent;\n",
              "      border-left-color: var(--fill-color);\n",
              "      border-top-color: var(--fill-color);\n",
              "      border-right-color: var(--fill-color);\n",
              "    }\n",
              "    40% {\n",
              "      border-color: transparent;\n",
              "      border-right-color: var(--fill-color);\n",
              "      border-top-color: var(--fill-color);\n",
              "    }\n",
              "    60% {\n",
              "      border-color: transparent;\n",
              "      border-right-color: var(--fill-color);\n",
              "    }\n",
              "    80% {\n",
              "      border-color: transparent;\n",
              "      border-right-color: var(--fill-color);\n",
              "      border-bottom-color: var(--fill-color);\n",
              "    }\n",
              "    90% {\n",
              "      border-color: transparent;\n",
              "      border-bottom-color: var(--fill-color);\n",
              "    }\n",
              "  }\n",
              "</style>\n",
              "\n",
              "  <script>\n",
              "    async function quickchart(key) {\n",
              "      const quickchartButtonEl =\n",
              "        document.querySelector('#' + key + ' button');\n",
              "      quickchartButtonEl.disabled = true;  // To prevent multiple clicks.\n",
              "      quickchartButtonEl.classList.add('colab-df-spinner');\n",
              "      try {\n",
              "        const charts = await google.colab.kernel.invokeFunction(\n",
              "            'suggestCharts', [key], {});\n",
              "      } catch (error) {\n",
              "        console.error('Error during call to suggestCharts:', error);\n",
              "      }\n",
              "      quickchartButtonEl.classList.remove('colab-df-spinner');\n",
              "      quickchartButtonEl.classList.add('colab-df-quickchart-complete');\n",
              "    }\n",
              "    (() => {\n",
              "      let quickchartButtonEl =\n",
              "        document.querySelector('#df-3b73874c-27f0-4614-bb40-931020186022 button');\n",
              "      quickchartButtonEl.style.display =\n",
              "        google.colab.kernel.accessAllowed ? 'block' : 'none';\n",
              "    })();\n",
              "  </script>\n",
              "</div>\n",
              "    </div>\n",
              "  </div>\n"
            ],
            "application/vnd.google.colaboratory.intrinsic+json": {
              "type": "dataframe",
              "variable_name": "df_sw",
              "summary": "{\n  \"name\": \"df_sw\",\n  \"rows\": 240,\n  \"fields\": [\n    {\n      \"column\": \"Unnamed: 0\",\n      \"properties\": {\n        \"dtype\": \"number\",\n        \"std\": 69,\n        \"min\": 0,\n        \"max\": 239,\n        \"num_unique_values\": 240,\n        \"samples\": [\n          24,\n          6,\n          93\n        ],\n        \"semantic_type\": \"\",\n        \"description\": \"\"\n      }\n    },\n    {\n      \"column\": \"text\",\n      \"properties\": {\n        \"dtype\": \"object\",\n        \"semantic_type\": \"\",\n        \"description\": \"\"\n      }\n    },\n    {\n      \"column\": \"label\",\n      \"properties\": {\n        \"dtype\": \"number\",\n        \"std\": 0,\n        \"min\": 0,\n        \"max\": 1,\n        \"num_unique_values\": 2,\n        \"samples\": [\n          1,\n          0\n        ],\n        \"semantic_type\": \"\",\n        \"description\": \"\"\n      }\n    }\n  ]\n}"
            }
          },
          "metadata": {},
          "execution_count": 46
        }
      ]
    },
    {
      "cell_type": "code",
      "source": [
        "X_train_2, X_test_2 = train_test_split(df_sw, test_size=0.2, random_state=42)"
      ],
      "metadata": {
        "id": "SHfsvstUuPab"
      },
      "execution_count": 47,
      "outputs": []
    },
    {
      "cell_type": "code",
      "source": [
        "neg_count = unique_words(X_train_2)[0]\n",
        "pos_count = unique_words(X_train_2)[1]"
      ],
      "metadata": {
        "id": "J3PTKD4nwm_a"
      },
      "execution_count": 48,
      "outputs": []
    },
    {
      "cell_type": "code",
      "source": [
        "neg_count_freq = dict(Counter(neg_count))\n",
        "for k, v in neg_count_freq.items():\n",
        "  neg_count_freq[k]=neg_count_freq[k]/100\n",
        "\n",
        "pos_count_freq = dict(Counter(pos_count))\n",
        "for k, v in pos_count_freq.items():\n",
        "  pos_count_freq[k]=pos_count_freq[k]/100"
      ],
      "metadata": {
        "id": "uCGiCyRowsnc"
      },
      "execution_count": 49,
      "outputs": []
    },
    {
      "cell_type": "markdown",
      "source": [
        "Удивительно, но точность падает не слишком сильно. Но сильно она падает для функции, выделяющей ключевые слова -- видимо, она выделяет в качестве ключевых как раз в том числе стоп-слова и знаки препинания"
      ],
      "metadata": {
        "id": "lzKlgfldEJcD"
      }
    },
    {
      "cell_type": "code",
      "source": [
        "X_pred_31 = simple_prediction(X_test_2)\n",
        "\n",
        "accuracy_score(list(X_test_2['label']), X_pred_31)"
      ],
      "metadata": {
        "colab": {
          "base_uri": "https://localhost:8080/"
        },
        "id": "qftZ0YSOwxoY",
        "outputId": "7df1b6b2-eedf-4fb3-d635-ab416be9d867"
      },
      "execution_count": 50,
      "outputs": [
        {
          "output_type": "execute_result",
          "data": {
            "text/plain": [
              "0.6458333333333334"
            ]
          },
          "metadata": {},
          "execution_count": 50
        }
      ]
    },
    {
      "cell_type": "code",
      "source": [
        "X_pred_32 = kw_prediction(X_test_1)\n",
        "\n",
        "accuracy_score(list(X_test_2['label']), X_pred_32)"
      ],
      "metadata": {
        "colab": {
          "base_uri": "https://localhost:8080/"
        },
        "id": "tVm2yOU9w3s7",
        "outputId": "63813bbf-b83c-45d9-8527-9158bf3fdc08"
      },
      "execution_count": 51,
      "outputs": [
        {
          "output_type": "execute_result",
          "data": {
            "text/plain": [
              "0.5833333333333334"
            ]
          },
          "metadata": {},
          "execution_count": 51
        }
      ]
    },
    {
      "cell_type": "code",
      "source": [
        "X_pred_33 = freq_prediction(X_test_2)\n",
        "\n",
        "accuracy_score(list(X_test_2['label']), X_pred_33)"
      ],
      "metadata": {
        "colab": {
          "base_uri": "https://localhost:8080/"
        },
        "id": "CdPCa4aHw8bm",
        "outputId": "1ab4554a-00c7-4c1f-cba6-b9d898bbf389"
      },
      "execution_count": 52,
      "outputs": [
        {
          "output_type": "execute_result",
          "data": {
            "text/plain": [
              "0.6458333333333334"
            ]
          },
          "metadata": {},
          "execution_count": 52
        }
      ]
    },
    {
      "cell_type": "markdown",
      "source": [
        "Итак, для **действительно хорошей** класиификации тональности нужно:\n",
        "- учитывать частотность слов\n",
        "- скорее всего, учитывать их \"важность\" в исходных текстах, но иным от нашего способом\n",
        "- удалять стоп-слова (более качественно, чем это делает нлтк)\n",
        "\n",
        "Это всё приводит к идее о TF-IDF-векторизации отзывов и последующей их классификации при помощи метода kNN."
      ],
      "metadata": {
        "id": "wQyi5Cy0tHMV"
      }
    }
  ],
  "metadata": {
    "colab": {
      "provenance": []
    },
    "kernelspec": {
      "display_name": "Python 3",
      "name": "python3"
    },
    "language_info": {
      "name": "python"
    }
  },
  "nbformat": 4,
  "nbformat_minor": 0
}